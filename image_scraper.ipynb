{
  "nbformat": 4,
  "nbformat_minor": 0,
  "metadata": {
    "colab": {
      "provenance": []
    },
    "kernelspec": {
      "name": "python3",
      "display_name": "Python 3"
    },
    "language_info": {
      "name": "python"
    }
  },
  "cells": [
    {
      "cell_type": "markdown",
      "source": [
        "Make the scraper to a \"breadth first search\" on the links it collects just to show I know what that is"
      ],
      "metadata": {
        "id": "zaKAUUKqLUY1"
      }
    },
    {
      "cell_type": "code",
      "execution_count": 10,
      "metadata": {
        "colab": {
          "base_uri": "https://localhost:8080/"
        },
        "id": "k-S4hcLqLEe0",
        "outputId": "1fac459c-9ecd-4f7b-952b-5e73a63a045d"
      },
      "outputs": [
        {
          "output_type": "stream",
          "name": "stdout",
          "text": [
            "Drive already mounted at /content/gdrive; to attempt to forcibly remount, call drive.mount(\"/content/gdrive\", force_remount=True).\n"
          ]
        }
      ],
      "source": [
        "# Import dependencies\n",
        "from bs4 import BeautifulSoup\n",
        "import random\n",
        "import requests\n",
        "import urllib\n",
        "import time\n",
        "import threading\n",
        "\n",
        "# Google drive integration\n",
        "from google.colab import drive\n",
        "drive.mount(\"/content/gdrive\")"
      ]
    },
    {
      "cell_type": "code",
      "source": [
        "# Parameters\n",
        "FOLLOW_ONLY_IF_IMAGES_FOUND = True\n",
        "MAX_TIMEOUT_IN_SECONDS = 3\n",
        "NUM_IMAGES_TO_COLLECT = 1000\n",
        "PATH_TO_KEYWORDS = \"gdrive/MyDrive/Programming/Web Scraper/polish/keywords.txt\"\n",
        "PATH_TO_SEED_URLS = \"gdrive/MyDrive/Programming/Web Scraper/polish/seed-urls.txt\"\n",
        "POLITE_MODE = True\n",
        "THREADS = 20\n",
        "VERBOSE = 1"
      ],
      "metadata": {
        "id": "BQSGtsKSL5R4"
      },
      "execution_count": 11,
      "outputs": []
    },
    {
      "cell_type": "code",
      "source": [
        "# Variable initialization\n",
        "already_visited = set() # Links that have already been searched\n",
        "image_urls = set() # Scraped image URLs\n",
        "no_scrape_hosts = set() # Don't bother searching URLs under hosts in this set\n",
        "lock = threading.Lock() # Lock used by threading to ensure safety"
      ],
      "metadata": {
        "id": "ZEHg61PIPOxv"
      },
      "execution_count": null,
      "outputs": []
    },
    {
      "cell_type": "code",
      "source": [
        "# Load keywords\n",
        "with open(PATH_TO_KEYWORDS, 'r') as f:\n",
        "  keywords = f.read()\n",
        "  keywords = keywords.lower().split('\\n')\n",
        "  # remove trailing newlines if present\n",
        "  while keywords[-1] == '':\n",
        "    del(keywords[-1])"
      ],
      "metadata": {
        "id": "3dgGsuwONvaA"
      },
      "execution_count": 13,
      "outputs": []
    },
    {
      "cell_type": "code",
      "source": [
        "# Load seed URLs\n",
        "with open(PATH_TO_SEED_URLS)"
      ],
      "metadata": {
        "id": "aRvfxJAbQR-w"
      },
      "execution_count": null,
      "outputs": []
    }
  ]
}