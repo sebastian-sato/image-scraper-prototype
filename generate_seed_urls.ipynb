{
  "nbformat": 4,
  "nbformat_minor": 0,
  "metadata": {
    "colab": {
      "provenance": []
    },
    "kernelspec": {
      "name": "python3",
      "display_name": "Python 3"
    },
    "language_info": {
      "name": "python"
    }
  },
  "cells": [
    {
      "cell_type": "code",
      "execution_count": null,
      "metadata": {
        "id": "p4nPz0LkSFFv",
        "colab": {
          "base_uri": "https://localhost:8080/"
        },
        "outputId": "8c831fcd-816f-4c93-d502-b87aab6fdbbe"
      },
      "outputs": [
        {
          "output_type": "stream",
          "name": "stdout",
          "text": [
            "Mounted at /content/gdrive\n"
          ]
        }
      ],
      "source": [
        "# Import Dependencies\n",
        "from googlesearch import search\n",
        "\n",
        "# Google drive integration\n",
        "from google.colab import drive\n",
        "drive.mount(\"/content/gdrive\")"
      ]
    },
    {
      "cell_type": "code",
      "source": [
        "PATH_TO_SAVE = \"gdrive/MyDrive/Programming/Web Scraper/polish/seed-urls.txt\"\n",
        "NUM_SEED_URLS = 30\n",
        "\n",
        "# Get seed URLs\n",
        "seed_urls = []\n",
        "query = \"dogs\"\n",
        "for url in search(query, tld=\"com\", num=NUM_SEED_URLS, stop=NUM_SEED_URLS, pause=10): # The pause is important, it makes it less likely for us to get blocked for spam\n",
        "    seed_urls.append(url)\n",
        "\n",
        "# Write seed URLs to file\n",
        "with open(PATH_TO_SAVE, 'a+') as f:\n",
        "  for url in seed_urls:\n",
        "    f.write(url+'\\n')\n"
      ],
      "metadata": {
        "id": "edwy0Hp8ScGh"
      },
      "execution_count": null,
      "outputs": []
    }
  ]
}